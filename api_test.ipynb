{
 "cells": [
  {
   "cell_type": "code",
   "execution_count": 4,
   "metadata": {},
   "outputs": [],
   "source": [
    "import requests\n",
    "\n",
    "URL = \"http://127.0.0.1:8000/api/recipe_list\"\n",
    "\n",
    "new_recipe = {\n",
    "    \"recipes\": \"Oyster Po’ Boy\",\n",
    "    \"urls\": \"https://www.simplyrecipes.com/oyster-po-boy-recipe-7100340\",\n",
    "    \"images\": \"https://www.simplyrecipes.com/thmb/v17EFPgC5nmd9Dyip03eFF0MPgM=/300x225/filters:no_upscale():max_bytes(150000):strip_icc():format(webp)/Simply-Recipes-Oyster-PoBoy-LEAD-03-919049a1cacb4b78881ced4ea2eac4a7.jpg\" \n",
    "}"
   ]
  },
  {
   "cell_type": "code",
   "execution_count": 15,
   "metadata": {},
   "outputs": [],
   "source": [
    "r = requests.get(URL)"
   ]
  },
  {
   "cell_type": "code",
   "execution_count": null,
   "metadata": {},
   "outputs": [],
   "source": [
    "requests.post()"
   ]
  }
 ],
 "metadata": {
  "kernelspec": {
   "display_name": "myvenv",
   "language": "python",
   "name": "python3"
  },
  "language_info": {
   "codemirror_mode": {
    "name": "ipython",
    "version": 3
   },
   "file_extension": ".py",
   "mimetype": "text/x-python",
   "name": "python",
   "nbconvert_exporter": "python",
   "pygments_lexer": "ipython3",
   "version": "3.10.6"
  },
  "orig_nbformat": 4
 },
 "nbformat": 4,
 "nbformat_minor": 2
}
