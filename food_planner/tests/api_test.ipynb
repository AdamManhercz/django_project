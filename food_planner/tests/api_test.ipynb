{
 "cells": [
  {
   "cell_type": "code",
   "execution_count": 29,
   "metadata": {},
   "outputs": [],
   "source": [
    "import requests\n",
    "\n",
    "URL = \"http://127.0.0.1:8000/api/recipe_list\"\n",
    "\n"
   ]
  },
  {
   "cell_type": "code",
   "execution_count": 24,
   "metadata": {},
   "outputs": [],
   "source": [
    "r = requests.get(URL)"
   ]
  },
  {
   "cell_type": "code",
   "execution_count": 25,
   "metadata": {},
   "outputs": [
    {
     "data": {
      "text/plain": [
       "[{'recipes': 'Sabzi Polo (Persian Herb Rice)',\n",
       "  'urls': 'https://www.simplyrecipes.com/sabzi-polo-persian-herb-rice-recipe-7198752',\n",
       "  'images': 'https://www.simplyrecipes.com/thmb/EB1Inj6MHyv_-GwfZJsEFHhO8xw=/300x225/filters:no_upscale():max_bytes(150000):strip_icc()/Simply-Recipe-Sabzi-Polo-LEAD-12-4070b4bfacaf47888b58dc91b2851d94.jpg'},\n",
       " {'recipes': 'Chop Suey',\n",
       "  'urls': 'https://www.simplyrecipes.com/chop-suey-recipe-7229832',\n",
       "  'images': 'https://www.simplyrecipes.com/thmb/fW1przUKJOIuLvhzSToqUFdUEIc=/300x225/filters:no_upscale():max_bytes(150000):strip_icc()/Simply-Recipes-Chop-Suey-LEAD-01-bf724045c4c5454faa0b1fe02ef77391.jpg'},\n",
       " {'recipes': 'Homemade Sweetened Condensed Milk',\n",
       "  'urls': 'https://www.simplyrecipes.com/homemade-sweetened-condensed-milk-recipe-7197640',\n",
       "  'images': 'https://www.simplyrecipes.com/thmb/krGZ21bXsUlN_QCICOmW7dbWmFc=/300x225/filters:no_upscale():max_bytes(150000):strip_icc()/Simply-Recipe-Sweetened-Condensed-Milk-LEAD-014-e928928bafc84ec497d51f2db68b624c.jpg'},\n",
       " {'recipes': 'Turkish Delight (Lokum)',\n",
       "  'urls': 'https://www.simplyrecipes.com/turkish-delight-lokum-recipe-7187442',\n",
       "  'images': 'https://www.simplyrecipes.com/thmb/B-698yhuvycwyWbRfcgedR3s6z0=/300x225/filters:no_upscale():max_bytes(150000):strip_icc()/SimplyRecipes-TurkishDelight-LEAD-04-ae80d282fa754e99bdde4e1af2d509b9.jpg'},\n",
       " {'recipes': 'French Onion Meatballs ',\n",
       "  'urls': 'https://www.simplyrecipes.com/french-onion-meatballs-recipe-7198021',\n",
       "  'images': 'https://www.simplyrecipes.com/thmb/CVM97aUaa5hbFbHzXtK4jkWyuzg=/300x225/filters:no_upscale():max_bytes(150000):strip_icc()/Simply-Recipes-French-Onion-Meatballs-LEAD-08-23502a12296f4ea8afe10ecff9878f9b.jpg'}]"
      ]
     },
     "execution_count": 25,
     "metadata": {},
     "output_type": "execute_result"
    }
   ],
   "source": [
    "r.json()[:5]"
   ]
  },
  {
   "cell_type": "code",
   "execution_count": 32,
   "metadata": {},
   "outputs": [],
   "source": [
    "import requests\n",
    "\n",
    "URL = \"http://127.0.0.1:8000/api/recipe_list\"\n",
    "\n",
    "te_recipe = {\n",
    "    \"recipes\": \"Oyster Po’ Boy\",\n",
    "    \"urls\": \"https://www.simplyrecipes.com/oyster-po-boy-recipe-7100340\",\n",
    "    \"images\": \"https://www.simplyrecipes.com/thmb/v17EFPgC5nmd9Dyip03eFF0MPgM=/300x225/filters:no_upscale():max_bytes(150000):strip_icc():format(webp)/Simply-Recipes-Oyster-PoBoy-LEAD-03-919049a1cacb4b78881ced4ea2eac4a7.jpg\" \n",
    "}\n",
    "\n",
    "new_recipe = {\n",
    "    \"recipes\": \"Grilled Cheese Sandwich\",\n",
    "    \"urls\": \"https://www.simplyrecipes.com/grilled-cheese-sandwich-recipe-1234567\",\n",
    "    \"images\": \"https://www.simplyrecipes.com/thmb/v17EFPgC5nmd9Dyip03eFF0MPgM=/300x225/filters:no_upscale():max_bytes(150000):strip_icc():format(webp)/Simply-Recipes-Grilled-Cheese-Sandwich-LEAD-03-1234567.jpg\"\n",
    "}\n",
    "\n",
    "response = requests.post(URL, json=new_recipe)"
   ]
  },
  {
   "cell_type": "code",
   "execution_count": 33,
   "metadata": {},
   "outputs": [
    {
     "data": {
      "text/plain": [
       "<Response [201]>"
      ]
     },
     "execution_count": 33,
     "metadata": {},
     "output_type": "execute_result"
    }
   ],
   "source": [
    "response"
   ]
  },
  {
   "cell_type": "code",
   "execution_count": 36,
   "metadata": {},
   "outputs": [
    {
     "data": {
      "text/plain": [
       "{'recipes': 'Grilled Cheese Sandwich',\n",
       " 'urls': 'https://www.simplyrecipes.com/grilled-cheese-sandwich-recipe-1234567',\n",
       " 'images': 'https://www.simplyrecipes.com/thmb/v17EFPgC5nmd9Dyip03eFF0MPgM=/300x225/filters:no_upscale():max_bytes(150000):strip_icc():format(webp)/Simply-Recipes-Grilled-Cheese-Sandwich-LEAD-03-1234567.jpg'}"
      ]
     },
     "execution_count": 36,
     "metadata": {},
     "output_type": "execute_result"
    }
   ],
   "source": [
    "recipe_url = \"http://127.0.0.1:8000/api/recipe_list/Grilled%20Cheese%20Sandwich\"\n",
    "\n",
    "response = requests.get(recipe_url)\n",
    "\n",
    "response.json()\n"
   ]
  },
  {
   "cell_type": "code",
   "execution_count": 37,
   "metadata": {},
   "outputs": [],
   "source": [
    "resp = requests.delete(recipe_url)"
   ]
  },
  {
   "cell_type": "code",
   "execution_count": 38,
   "metadata": {},
   "outputs": [
    {
     "data": {
      "text/plain": [
       "<Response [204]>"
      ]
     },
     "execution_count": 38,
     "metadata": {},
     "output_type": "execute_result"
    }
   ],
   "source": [
    "resp"
   ]
  },
  {
   "cell_type": "code",
   "execution_count": 40,
   "metadata": {},
   "outputs": [
    {
     "data": {
      "text/plain": [
       "<Response [404]>"
      ]
     },
     "execution_count": 40,
     "metadata": {},
     "output_type": "execute_result"
    }
   ],
   "source": [
    "requests.get(recipe_url)"
   ]
  },
  {
   "cell_type": "code",
   "execution_count": null,
   "metadata": {},
   "outputs": [],
   "source": []
  }
 ],
 "metadata": {
  "kernelspec": {
   "display_name": "myvenv",
   "language": "python",
   "name": "python3"
  },
  "language_info": {
   "codemirror_mode": {
    "name": "ipython",
    "version": 3
   },
   "file_extension": ".py",
   "mimetype": "text/x-python",
   "name": "python",
   "nbconvert_exporter": "python",
   "pygments_lexer": "ipython3",
   "version": "3.10.6"
  },
  "orig_nbformat": 4
 },
 "nbformat": 4,
 "nbformat_minor": 2
}
