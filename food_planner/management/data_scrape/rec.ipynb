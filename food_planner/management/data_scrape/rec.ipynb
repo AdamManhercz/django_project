{
 "cells": [
  {
   "cell_type": "code",
   "execution_count": 152,
   "metadata": {},
   "outputs": [],
   "source": [
    "import requests\n",
    "from bs4 import BeautifulSoup as bs\n",
    "import pandas as pd\n",
    "\n",
    "URL = \"https://www.simplyrecipes.com/recipes-5090746\"\n",
    "\n",
    "\n",
    "def get_data(url:str):\n",
    "    \"\"\"Collects the recipes\"\"\"\n",
    "\n",
    "    header = {\n",
    "            \"User-Agent\": \"Mozilla/5.0 (Windows NT 10.0; Win64; x64) AppleWebKit/537.36 (KHTML, like Gecko) Chrome/108.0.0.0 Safari/537.36\"\n",
    "        }\n",
    "    r = requests.get(url, headers=header)\n",
    "    soup = bs(r.content, \"html.parser\")\n",
    "    section = soup.find(\"section\")\n",
    "\n",
    "    dinners = section.find(\"div\", class_ = \"loc fixedContent\")\n",
    "\n",
    "    return dinners\n",
    "\n",
    "def get_recipes(data):\n",
    "\n",
    "    recipes = data.findAll(\"span\", class_=\"card__title-text\")\n",
    "\n",
    "    recipes = [r.get_text() for r in recipes]\n",
    "\n",
    "    return recipes\n",
    "\n",
    "def get_urls(data):\n",
    "\n",
    "    dinners = data.findAll(\"a\", class_=\"comp mntl-card-list-items mntl-document-card mntl-card card\")\n",
    "\n",
    "    urls = [d['href'] for d in data.find_all('a', href=True)]\n",
    "\n",
    "    urls = [u for u in urls if u != \"#\"] \n",
    "\n",
    "    return urls\n",
    "\n",
    "\n",
    "def get_csv(recipes:list, urls:list):\n",
    "\n",
    "    df = pd.DataFrame({\"recipes\":recipes, \"urls\": urls})\n",
    "\n",
    "    df.to_csv(\"../project/recipe.csv\")\n"
   ]
  },
  {
   "cell_type": "code",
   "execution_count": 148,
   "metadata": {},
   "outputs": [],
   "source": [
    "data = get_data(URL)\n",
    "\n",
    "recipes = get_recipes(data)\n",
    "\n",
    "urls = get_urls(data)\n",
    "\n"
   ]
  },
  {
   "cell_type": "code",
   "execution_count": null,
   "metadata": {},
   "outputs": [],
   "source": []
  }
 ],
 "metadata": {
  "kernelspec": {
   "display_name": "myvenv",
   "language": "python",
   "name": "python3"
  },
  "language_info": {
   "codemirror_mode": {
    "name": "ipython",
    "version": 3
   },
   "file_extension": ".py",
   "mimetype": "text/x-python",
   "name": "python",
   "nbconvert_exporter": "python",
   "pygments_lexer": "ipython3",
   "version": "3.10.6"
  },
  "orig_nbformat": 4,
  "vscode": {
   "interpreter": {
    "hash": "8fe8a8ff471a5e056b30628130c054e2433336927f4dc90db251fd596fbd0260"
   }
  }
 },
 "nbformat": 4,
 "nbformat_minor": 2
}
