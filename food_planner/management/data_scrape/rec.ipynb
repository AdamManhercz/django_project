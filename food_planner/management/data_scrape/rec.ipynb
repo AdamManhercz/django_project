{
 "cells": [
  {
   "cell_type": "code",
   "execution_count": 60,
   "metadata": {},
   "outputs": [],
   "source": [
    "import requests\n",
    "from bs4 import BeautifulSoup as bs\n",
    "import pandas as pd\n",
    "\n",
    "URL = \"https://www.simplyrecipes.com/recipes-5090746\"\n",
    "\n",
    "\n",
    "def get_data(url:str):\n",
    "    \"\"\"Collects the recipes\"\"\"\n",
    "\n",
    "    header = {\n",
    "            \"User-Agent\": \"Mozilla/5.0 (Windows NT 10.0; Win64; x64) AppleWebKit/537.36 (KHTML, like Gecko) Chrome/108.0.0.0 Safari/537.36\"\n",
    "        }\n",
    "    r = requests.get(url, headers=header)\n",
    "    soup = bs(r.content, \"html.parser\")\n",
    "    section = soup.find(\"section\")\n",
    "\n",
    "    data = section.find(\"div\", class_ = \"loc fixedContent\")\n",
    "\n",
    "    return data, soup\n",
    "\n",
    "def get_recipes(data):\n",
    "\n",
    "    recipes = data.findAll(\"span\", class_=\"card__title-text\")\n",
    "\n",
    "    recipes = [r.get_text() for r in recipes]\n",
    "\n",
    "    return recipes\n",
    "\n",
    "def get_urls(data):\n",
    "\n",
    "    dinners = data.findAll(\"a\", class_=\"comp mntl-card-list-items mntl-document-card mntl-card card\")\n",
    "\n",
    "    urls = [d['href'] for d in data.find_all('a', href=True)]\n",
    "\n",
    "    urls = [u for u in urls if u != \"#\"] \n",
    "\n",
    "    return urls\n",
    "\n",
    "def get_images(recipes:list, soup) -> list:\n",
    "\n",
    "    recipes = [recipe.lower().replace(\" \", \"_\") for recipe in recipes]\n",
    "    images = soup.select(\"img\")\n",
    "    img_urls = [images[i][\"data-src\"] for i in range(len(images))]\n",
    "\n",
    "    for img_url,recipe in zip(img_urls, recipes):\n",
    "    \n",
    "        response = requests.get(img_url)\n",
    "\n",
    "        if response.status_code:\n",
    "            with open(f\"C:/Users/norat/Desktop/project/media/{recipe}.jpg\", \"wb\") as f:\n",
    "                f.write(response.content)\n",
    "    \n",
    "\n",
    "\n",
    "def get_csv(recipes:list, urls:list):\n",
    "\n",
    "    df = pd.DataFrame({\"recipes\":recipes, \"urls\": urls})\n",
    "\n",
    "    df.to_csv(\"../project/recipe.csv\")\n"
   ]
  },
  {
   "cell_type": "code",
   "execution_count": 61,
   "metadata": {},
   "outputs": [],
   "source": [
    "data, soup = get_data(URL)\n",
    "\n",
    "recipes = get_recipes(data)\n",
    "\n",
    "urls = get_urls(data)\n",
    "\n",
    "\n"
   ]
  },
  {
   "cell_type": "code",
   "execution_count": 68,
   "metadata": {},
   "outputs": [],
   "source": [
    "url = soup.select(\"img\")[0][\"data-src\"]\n",
    "\n",
    "response = requests.get(url)\n",
    "\n",
    "if response.status_code:\n",
    "    with open(\"C:/Users/norat/Desktop/project/media/chicken_adobo.jpg\", \"wb\") as f:\n",
    "\n",
    "        f.write(response.content)\n",
    "\n",
    "\n",
    "\n",
    "\n",
    "    "
   ]
  },
  {
   "cell_type": "code",
   "execution_count": 47,
   "metadata": {},
   "outputs": [
    {
     "data": {
      "text/plain": [
       "str"
      ]
     },
     "execution_count": 47,
     "metadata": {},
     "output_type": "execute_result"
    }
   ],
   "source": [
    "recipes=get_recipes(data)\n",
    "type(recipes[0])"
   ]
  },
  {
   "cell_type": "code",
   "execution_count": 18,
   "metadata": {},
   "outputs": [],
   "source": [
    "r = requests.get(URL).content"
   ]
  },
  {
   "cell_type": "code",
   "execution_count": 13,
   "metadata": {},
   "outputs": [
    {
     "data": {
      "text/plain": [
       "requests.models.Response"
      ]
     },
     "execution_count": 13,
     "metadata": {},
     "output_type": "execute_result"
    }
   ],
   "source": [
    "type(r)"
   ]
  },
  {
   "cell_type": "code",
   "execution_count": 16,
   "metadata": {},
   "outputs": [
    {
     "data": {
      "text/plain": [
       "<function bytes.decode(encoding='utf-8', errors='strict')>"
      ]
     },
     "execution_count": 16,
     "metadata": {},
     "output_type": "execute_result"
    }
   ],
   "source": [
    "image_src = []\n",
    "    for recipe, image in zip(recipes, images):\n",
    "\n",
    "        image_name = f\"{recipe}.jpg\"\n",
    "        download_path = \"media/images/\" + image_name\n",
    "        image_src.append(download_path)\n",
    "\n",
    "        with open(download_path, \"wb\") as f:\n",
    "            image.save(f, \"JPEG\")\n",
    "\n",
    "    return images_urls\n"
   ]
  },
  {
   "cell_type": "code",
   "execution_count": null,
   "metadata": {},
   "outputs": [],
   "source": []
  }
 ],
 "metadata": {
  "kernelspec": {
   "display_name": "myvenv",
   "language": "python",
   "name": "python3"
  },
  "language_info": {
   "codemirror_mode": {
    "name": "ipython",
    "version": 3
   },
   "file_extension": ".py",
   "mimetype": "text/x-python",
   "name": "python",
   "nbconvert_exporter": "python",
   "pygments_lexer": "ipython3",
   "version": "3.10.6"
  },
  "orig_nbformat": 4,
  "vscode": {
   "interpreter": {
    "hash": "8fe8a8ff471a5e056b30628130c054e2433336927f4dc90db251fd596fbd0260"
   }
  }
 },
 "nbformat": 4,
 "nbformat_minor": 2
}
